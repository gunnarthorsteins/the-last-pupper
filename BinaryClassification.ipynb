{
 "cells": [
  {
   "cell_type": "markdown",
   "id": "younger-donna",
   "metadata": {},
   "source": [
    "# Binary Painting Classification #"
   ]
  },
  {
   "cell_type": "markdown",
   "id": "white-gregory",
   "metadata": {},
   "source": [
    "In this notebook we implement a convolutional autoencoder for binary classification of paintings by painter. This classifier serves as a proof of concept for our convolutional autoencoder classifier."
   ]
  },
  {
   "cell_type": "code",
   "execution_count": 2,
   "id": "federal-format",
   "metadata": {},
   "outputs": [],
   "source": [
    "# import modules\n",
    "from utils.image_scrape import *\n",
    "from utils.image_formatting import *\n",
    "import tensorflow as tf\n",
    "from tensorflow.keras.models import Sequential\n",
    "from tensorflow.keras.layers import Dense, Flatten, Conv2D, AveragePooling2D, MaxPooling2D, Dropout\n",
    "from tensorflow.keras import Model\n",
    "from tensorflow.keras.utils import to_categorical\n",
    "from tensorflow.keras.losses import categorical_crossentropy\n",
    "from PIL import Image\n",
    "\n",
    "%load_ext autoreload\n",
    "%autoreload 2"
   ]
  },
  {
   "cell_type": "markdown",
   "id": "framed-sleep",
   "metadata": {},
   "source": [
    "Download 1000 picasso and 1000 van gogh images."
   ]
  },
  {
   "cell_type": "code",
   "execution_count": 5,
   "id": "japanese-saturday",
   "metadata": {},
   "outputs": [],
   "source": [
    "# downloading data for only two artists. Trying a binary classification first\n",
    "im_per_artist = 1000\n",
    "artists = {}\n",
    "artists.update({ 'pablo-picasso' : PAINTER_DICT['pablo-picasso'] })\n",
    "artists.update({ 'vincent-van-gogh' : PAINTER_DICT['vincent-van-gogh'] })\n",
    "\n",
    "resolution = (750, 750)\n",
    "download_data(artists=artists, images_per_artist=im_per_artist)\n",
    "standardize_images(resolution, artists=artists)"
   ]
  },
  {
   "cell_type": "markdown",
   "id": "sitting-customs",
   "metadata": {},
   "source": [
    "Load images into memory as numpy arrays."
   ]
  },
  {
   "cell_type": "code",
   "execution_count": 45,
   "id": "molecular-quilt",
   "metadata": {},
   "outputs": [
    {
     "name": "stdout",
     "output_type": "stream",
     "text": [
      "(500, 750, 750, 3)\n",
      "(500, 750, 750, 3)\n"
     ]
    }
   ],
   "source": [
    "gogh_images = get_images('vincent-van-gogh', 500)\n",
    "picasso_images = get_images('pablo-picasso', 500)\n",
    "\n",
    "print(np.shape(picasso_images))\n",
    "print(np.shape(gogh_images))"
   ]
  },
  {
   "cell_type": "markdown",
   "id": "intermediate-violence",
   "metadata": {},
   "source": [
    "Make labels. Picasso = 0, Gogh = 1"
   ]
  },
  {
   "cell_type": "code",
   "execution_count": 46,
   "id": "rough-transcript",
   "metadata": {},
   "outputs": [
    {
     "name": "stdout",
     "output_type": "stream",
     "text": [
      "1000 1000\n"
     ]
    }
   ],
   "source": [
    "y = []\n",
    "X = []\n",
    "for picasso, gogh in zip(picasso_images, gogh_images):\n",
    "    y.append(0)\n",
    "    y.append(1)\n",
    "    X.append(picasso)\n",
    "    X.append(gogh)\n",
    "\n",
    "print(len(X), len(y))"
   ]
  },
  {
   "cell_type": "markdown",
   "id": "silver-trust",
   "metadata": {},
   "source": [
    "Shuffle and split into train and validation sets"
   ]
  },
  {
   "cell_type": "code",
   "execution_count": 47,
   "id": "stupid-strategy",
   "metadata": {},
   "outputs": [
    {
     "name": "stdout",
     "output_type": "stream",
     "text": [
      "(800, 750, 750, 3) (800,)\n",
      "(200, 750, 750, 3) (200,)\n"
     ]
    }
   ],
   "source": [
    "zipped = list(zip(X, y))            # zip to shuffle and retain correct labels\n",
    "np.random.shuffle(zipped)           # shuffle zipped batch\n",
    "X, y = zip(*zipped)\n",
    "split_index = int(0.8 * len(X))\n",
    "X_train = np.array(X[:split_index], dtype=np.float32)\n",
    "y_train = np.array(y[:split_index], dtype=np.float32)\n",
    "X_val = np.array(X[split_index:], dtype=np.float32)\n",
    "y_val = np.array(y[split_index:], dtype=np.float32)\n",
    "\n",
    "print(X_train.shape, y_train.shape)\n",
    "print(X_val.shape, y_val.shape)"
   ]
  },
  {
   "cell_type": "code",
   "execution_count": 48,
   "id": "twelve-object",
   "metadata": {},
   "outputs": [],
   "source": [
    "output_size = max(y_train) + 1  # define output size of network\n",
    "\n",
    "input_shape = (X_train[0].shape[0], X_train[0].shape[1], X_train[0].shape[2]) # this should NOT take into account batches. Keras adds batch dimensions\n",
    "\n",
    "# define function to generate model\n",
    "def create_model():\n",
    "    model = tf.keras.models.Sequential()\n",
    "    model.add(Conv2D(filters=6, kernel_size=(5, 5), strides=(1,1), activation='tanh', input_shape=input_shape, padding=\"same\"))\n",
    "    model.add(AveragePooling2D(pool_size=(2, 2), strides=(2, 2), padding='valid'))\n",
    "    model.add(Conv2D(filters=6, kernel_size=(5, 5), strides=(1,1), activation='tanh', input_shape=input_shape, padding=\"same\"))\n",
    "    model.add(AveragePooling2D(pool_size=(2, 2), strides=(2, 2), padding='valid'))\n",
    "    model.add(Flatten())\n",
    "    model.add(Dense(400, activation='relu'))\n",
    "    model.add(Dense(output_size, activation='softmax'))\n",
    "    \n",
    "    return model"
   ]
  },
  {
   "cell_type": "code",
   "execution_count": 49,
   "id": "earlier-devon",
   "metadata": {},
   "outputs": [
    {
     "name": "stdout",
     "output_type": "stream",
     "text": [
      "Epoch 1/10\n",
      "13/13 [==============================] - 181s 14s/step - loss: 67.6477 - accuracy: 0.5487 - val_loss: 17.4725 - val_accuracy: 0.5600\n",
      "Epoch 2/10\n",
      "13/13 [==============================] - 170s 13s/step - loss: 10.7067 - accuracy: 0.7100 - val_loss: 8.2917 - val_accuracy: 0.6400\n",
      "Epoch 3/10\n",
      "13/13 [==============================] - 183s 14s/step - loss: 4.7367 - accuracy: 0.7287 - val_loss: 2.1466 - val_accuracy: 0.6950\n",
      "Epoch 4/10\n",
      "13/13 [==============================] - 165s 13s/step - loss: 1.1759 - accuracy: 0.8000 - val_loss: 3.2649 - val_accuracy: 0.6200\n",
      "Epoch 5/10\n",
      "13/13 [==============================] - 167s 13s/step - loss: 0.5740 - accuracy: 0.8875 - val_loss: 2.3795 - val_accuracy: 0.6700\n",
      "Epoch 6/10\n",
      "13/13 [==============================] - 167s 13s/step - loss: 0.3519 - accuracy: 0.9150 - val_loss: 1.7484 - val_accuracy: 0.7400\n",
      "Epoch 7/10\n",
      "13/13 [==============================] - 165s 13s/step - loss: 0.1429 - accuracy: 0.9600 - val_loss: 1.4599 - val_accuracy: 0.7400\n",
      "Epoch 8/10\n",
      "13/13 [==============================] - 161s 12s/step - loss: 0.0329 - accuracy: 0.9887 - val_loss: 1.3009 - val_accuracy: 0.7600\n",
      "Epoch 9/10\n",
      "13/13 [==============================] - 165s 13s/step - loss: 0.0251 - accuracy: 0.9925 - val_loss: 1.4112 - val_accuracy: 0.7550\n",
      "Epoch 10/10\n",
      "13/13 [==============================] - 146s 11s/step - loss: 0.0090 - accuracy: 0.9987 - val_loss: 1.3257 - val_accuracy: 0.7400\n"
     ]
    },
    {
     "data": {
      "text/plain": [
       "<tensorflow.python.keras.callbacks.History at 0x7feb355c3fd0>"
      ]
     },
     "execution_count": 49,
     "metadata": {},
     "output_type": "execute_result"
    }
   ],
   "source": [
    "model_test = create_model()  # create a model\n",
    "\n",
    "model_test.compile(optimizer='adam',  # compile model\n",
    "              loss='sparse_categorical_crossentropy',\n",
    "              metrics=['accuracy'])\n",
    "\n",
    "model_test.fit(x=X_train, # fit model\n",
    "          y=y_train,\n",
    "          batch_size=64,\n",
    "          epochs=10, \n",
    "          validation_data=(X_val, y_val), \n",
    "          callbacks=None,\n",
    "          verbose=1)"
   ]
  },
  {
   "cell_type": "code",
   "execution_count": 7,
   "id": "young-framing",
   "metadata": {},
   "outputs": [],
   "source": [
    "model_path = \"models/binary_model_{}_{}\".format(list(artists.keys())[0], list(artists.keys())[1]) # save model\n",
    "model_test.save(model_path)"
   ]
  },
  {
   "cell_type": "markdown",
   "id": "precious-diploma",
   "metadata": {},
   "source": [
    "Predict on single images to get a feel for model quality. Picasso : 0, Van Gogh : 1"
   ]
  },
  {
   "cell_type": "code",
   "execution_count": 15,
   "id": "reflected-event",
   "metadata": {},
   "outputs": [
    {
     "name": "stdout",
     "output_type": "stream",
     "text": [
      "[1 0 1 0 1 1 1 1 1 1]\n"
     ]
    }
   ],
   "source": [
    "image_to_predict = get_images('vincent-van-gogh', 10)  # get 10 random van gogh images\n",
    "# Image.fromarray(image_to_predict[0]).show()\n",
    "loaded_model = tf.keras.models.load_model(model_path)  # load model\n",
    "print(np.argmax(loaded_model.predict(image_to_predict), axis=1)) # predict"
   ]
  },
  {
   "cell_type": "markdown",
   "id": "classified-yahoo",
   "metadata": {},
   "source": [
    "The naive binary classification model performs well, although the model appears to be overfitting. More sophisticated models, with regularization, will be tested in the future. "
   ]
  },
  {
   "cell_type": "code",
   "execution_count": null,
   "id": "welcome-testing",
   "metadata": {},
   "outputs": [],
   "source": []
  }
 ],
 "metadata": {
  "kernelspec": {
   "display_name": "Python 3",
   "language": "python",
   "name": "python3"
  },
  "language_info": {
   "codemirror_mode": {
    "name": "ipython",
    "version": 3
   },
   "file_extension": ".py",
   "mimetype": "text/x-python",
   "name": "python",
   "nbconvert_exporter": "python",
   "pygments_lexer": "ipython3",
   "version": "3.7.9"
  }
 },
 "nbformat": 4,
 "nbformat_minor": 5
}
