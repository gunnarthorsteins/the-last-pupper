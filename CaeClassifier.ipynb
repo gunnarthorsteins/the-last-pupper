{
 "cells": [
  {
   "cell_type": "markdown",
   "id": "sorted-least",
   "metadata": {},
   "source": [
    "# CAE Classification Experiments #"
   ]
  },
  {
   "cell_type": "code",
   "execution_count": 1,
   "id": "likely-reading",
   "metadata": {},
   "outputs": [],
   "source": [
    "import datetime\n",
    "import matplotlib.pyplot as plt\n",
    "\n",
    "import tensorflow as tf\n",
    "from tensorflow.keras.models import Sequential\n",
    "from tensorflow.keras.layers import Dense, Flatten, Conv2D, AveragePooling2D, MaxPooling2D, Dropout, Conv2DTranspose, UpSampling2D\n",
    "from tensorflow.keras import layers, losses\n",
    "from tensorflow.keras import Model\n",
    "from tensorflow.keras.utils import to_categorical\n",
    "from tensorflow.keras.losses import categorical_crossentropy\n",
    "from sklearn.model_selection import train_test_split\n",
    "\n",
    "from utils.get_model import *\n",
    "from utils.image_formatting import *\n",
    "from utils.image_scrape import *\n",
    "tf.random.set_seed(1234)"
   ]
  },
  {
   "cell_type": "markdown",
   "id": "downtown-alberta",
   "metadata": {},
   "source": [
    "We load the data"
   ]
  },
  {
   "cell_type": "code",
   "execution_count": 2,
   "id": "detected-comment",
   "metadata": {},
   "outputs": [
    {
     "name": "stdout",
     "output_type": "stream",
     "text": [
      "pablo-picasso\n",
      "william-turner\n",
      "claude-monet\n",
      "X_train: (210, 256, 256, 3)\n",
      "y_train: (210,)\n",
      "\n",
      "X_val: (90, 256, 256, 3)\n",
      "y_val: (90,)\n"
     ]
    }
   ],
   "source": [
    "X, y = preprocess_images(artists=['pablo-picasso', 'william-turner', 'claude-monet'], n_imgs=100)\n",
    "X_train, X_val, y_train, y_val = train_test_split(X, y, test_size=0.3)\n",
    "X_train = apply_dropout(X_train, dropout_rate=0)\n",
    "\n",
    "print(f'X_train: {X_train.shape}')\n",
    "print(f'y_train: {y_train.shape}\\n')\n",
    "print(f'X_val: {X_val.shape}')\n",
    "print(f'y_val: {y_val.shape}')"
   ]
  },
  {
   "cell_type": "markdown",
   "id": "reserved-mirror",
   "metadata": {},
   "source": [
    "We load the latest model"
   ]
  },
  {
   "cell_type": "code",
   "execution_count": 3,
   "id": "surprising-bachelor",
   "metadata": {},
   "outputs": [
    {
     "name": "stdout",
     "output_type": "stream",
     "text": [
      "Latest model ID: 2021-04-23-21-10\n",
      "Model: \"sequential\"\n",
      "_________________________________________________________________\n",
      "Layer (type)                 Output Shape              Param #   \n",
      "=================================================================\n",
      "Conv2D_1 (Conv2D)            (None, 256, 256, 200)     15200     \n",
      "_________________________________________________________________\n",
      "MaxPool_1 (MaxPooling2D)     (None, 128, 128, 200)     0         \n",
      "_________________________________________________________________\n",
      "Conv2D_2 (Conv2D)            (None, 128, 128, 200)     1000200   \n",
      "_________________________________________________________________\n",
      "MaxPool_2 (MaxPooling2D)     (None, 64, 64, 200)       0         \n",
      "_________________________________________________________________\n",
      "UpSample_1 (UpSampling2D)    (None, 128, 128, 200)     0         \n",
      "_________________________________________________________________\n",
      "DeConv2D_1 (Conv2DTranspose) (None, 128, 128, 200)     1000200   \n",
      "_________________________________________________________________\n",
      "UpSample_2 (UpSampling2D)    (None, 256, 256, 200)     0         \n",
      "_________________________________________________________________\n",
      "DeConv2D_2 (Conv2DTranspose) (None, 256, 256, 200)     1000200   \n",
      "_________________________________________________________________\n",
      "DeConv2D_Reconstruction (Con (None, 256, 256, 3)       603       \n",
      "=================================================================\n",
      "Total params: 3,016,403\n",
      "Trainable params: 3,016,403\n",
      "Non-trainable params: 0\n",
      "_________________________________________________________________\n"
     ]
    }
   ],
   "source": [
    "# Get the latest autoencoder model\n",
    "latest_model = get_latest_model()\n",
    "latest_model_id = latest_model.split('_')[-1]  # For logging\n",
    "print(f'Latest model ID: {latest_model_id}')\n",
    "\n",
    "# Load autoencoder\n",
    "autoencoder = tf.keras.models.load_model(latest_model)\n",
    "autoencoder.summary()"
   ]
  },
  {
   "cell_type": "code",
   "execution_count": 4,
   "id": "indonesian-kenya",
   "metadata": {
    "scrolled": true
   },
   "outputs": [
    {
     "name": "stdout",
     "output_type": "stream",
     "text": [
      "Model: \"model\"\n",
      "_________________________________________________________________\n",
      "Layer (type)                 Output Shape              Param #   \n",
      "=================================================================\n",
      "input_1 (InputLayer)         [(None, 256, 256, 3)]     0         \n",
      "_________________________________________________________________\n",
      "Conv2D_1 (Conv2D)            (None, 256, 256, 200)     15200     \n",
      "_________________________________________________________________\n",
      "MaxPool_1 (MaxPooling2D)     (None, 128, 128, 200)     0         \n",
      "_________________________________________________________________\n",
      "Conv2D_2 (Conv2D)            (None, 128, 128, 200)     1000200   \n",
      "_________________________________________________________________\n",
      "MaxPool_2 (MaxPooling2D)     (None, 64, 64, 200)       0         \n",
      "_________________________________________________________________\n",
      "UpSample_1 (UpSampling2D)    (None, 128, 128, 200)     0         \n",
      "_________________________________________________________________\n",
      "DeConv2D_1 (Conv2DTranspose) (None, 128, 128, 200)     1000200   \n",
      "_________________________________________________________________\n",
      "UpSample_2 (UpSampling2D)    (None, 256, 256, 200)     0         \n",
      "_________________________________________________________________\n",
      "DeConv2D_2 (Conv2DTranspose) (None, 256, 256, 200)     1000200   \n",
      "=================================================================\n",
      "Total params: 3,015,800\n",
      "Trainable params: 3,015,800\n",
      "Non-trainable params: 0\n",
      "_________________________________________________________________\n"
     ]
    }
   ],
   "source": [
    "# grab encoding portion\n",
    "encoder = Model(inputs=autoencoder.input, outputs=autoencoder.layers[-2].output)\n",
    "encoder.summary()"
   ]
  },
  {
   "cell_type": "code",
   "execution_count": 5,
   "id": "curious-shooting",
   "metadata": {},
   "outputs": [],
   "source": [
    "# output_size = max(y_train) + 1\n",
    "\n",
    "# def build_classifier(encoder):\n",
    "#     encoder_output_shape = encoder.output.shape\n",
    "#     input_shape = (encoder_output_shape[1], encoder_output_shape[2], encoder_output_shape[3])\n",
    "#     dense_portion = Sequential(name='dense_portion')\n",
    "#     dense_portion.add(tf.keras.layers.Input(shape=input_shape, name='dense_input'))\n",
    "#     dense_portion.add(Flatten(name='dense_flatten', trainable=False))\n",
    "#     dense_portion.add(Dense(10, activation='relu', name='dense_400', kernel_regularizer=regularizer, bias_regularizer=regularizer, trainable=False))\n",
    "# #     dense_portion.add(Dense(200, activation='relu', name='dense_200', kernel_regularizer=regularizer))\n",
    "#     dense_portion.add(Dense(output_size, activation='softmax', name='softmax'))\n",
    "    \n",
    "#     return Model(inputs=encoder.inputs, outputs=dense_portion(encoder.output)), dense_portion\n",
    "    \n",
    "    \n",
    "# classifier, dense_portion = build_classifier(encoder)\n",
    "# classifier.summary()\n",
    "# dense_portion.summary()"
   ]
  },
  {
   "cell_type": "code",
   "execution_count": 12,
   "id": "phantom-portable",
   "metadata": {},
   "outputs": [
    {
     "name": "stdout",
     "output_type": "stream",
     "text": [
      "Epoch 1/20\n",
      "7/7 [==============================] - 3s 426ms/step - loss: 1.0498 - accuracy: 0.4048 - val_loss: 0.8598 - val_accuracy: 0.6333\n",
      "Epoch 2/20\n",
      "7/7 [==============================] - 3s 411ms/step - loss: 1.0084 - accuracy: 0.5952 - val_loss: 0.9857 - val_accuracy: 0.4778\n",
      "Epoch 3/20\n",
      "7/7 [==============================] - 3s 411ms/step - loss: 0.9318 - accuracy: 0.5952 - val_loss: 0.8512 - val_accuracy: 0.6778\n",
      "Epoch 4/20\n",
      "7/7 [==============================] - 3s 410ms/step - loss: 0.9180 - accuracy: 0.6095 - val_loss: 0.8623 - val_accuracy: 0.7000\n",
      "Epoch 5/20\n",
      "7/7 [==============================] - 3s 409ms/step - loss: 0.7817 - accuracy: 0.6667 - val_loss: 0.8027 - val_accuracy: 0.6889\n",
      "Epoch 6/20\n",
      "7/7 [==============================] - 3s 409ms/step - loss: 0.7288 - accuracy: 0.6857 - val_loss: 0.8034 - val_accuracy: 0.7444\n",
      "Epoch 7/20\n",
      "7/7 [==============================] - 3s 411ms/step - loss: 0.7128 - accuracy: 0.6952 - val_loss: 0.7795 - val_accuracy: 0.7222\n",
      "Epoch 8/20\n",
      "7/7 [==============================] - 3s 410ms/step - loss: 0.6973 - accuracy: 0.7190 - val_loss: 0.7877 - val_accuracy: 0.7222\n",
      "Epoch 9/20\n",
      "7/7 [==============================] - 3s 402ms/step - loss: 0.7556 - accuracy: 0.6714 - val_loss: 0.7741 - val_accuracy: 0.7000\n",
      "Epoch 10/20\n",
      "7/7 [==============================] - 3s 412ms/step - loss: 0.6859 - accuracy: 0.6857 - val_loss: 0.7855 - val_accuracy: 0.7222\n",
      "Epoch 11/20\n",
      "7/7 [==============================] - 3s 410ms/step - loss: 0.6388 - accuracy: 0.7286 - val_loss: 0.7868 - val_accuracy: 0.7444\n",
      "Epoch 12/20\n",
      "7/7 [==============================] - 3s 410ms/step - loss: 0.6207 - accuracy: 0.7333 - val_loss: 0.7389 - val_accuracy: 0.6667\n",
      "Epoch 13/20\n",
      "7/7 [==============================] - 3s 411ms/step - loss: 0.6348 - accuracy: 0.7143 - val_loss: 0.7134 - val_accuracy: 0.7000\n",
      "Epoch 14/20\n",
      "7/7 [==============================] - 3s 406ms/step - loss: 0.5329 - accuracy: 0.7905 - val_loss: 0.7539 - val_accuracy: 0.7556\n",
      "Epoch 15/20\n",
      "7/7 [==============================] - 3s 409ms/step - loss: 0.5457 - accuracy: 0.7857 - val_loss: 0.7505 - val_accuracy: 0.7333\n",
      "Epoch 16/20\n",
      "7/7 [==============================] - 3s 412ms/step - loss: 0.5167 - accuracy: 0.7905 - val_loss: 0.7711 - val_accuracy: 0.7444\n",
      "Epoch 17/20\n",
      "7/7 [==============================] - 3s 411ms/step - loss: 0.4595 - accuracy: 0.8143 - val_loss: 0.7912 - val_accuracy: 0.7444\n",
      "Epoch 18/20\n",
      "7/7 [==============================] - 3s 402ms/step - loss: 0.4804 - accuracy: 0.7905 - val_loss: 0.7665 - val_accuracy: 0.6778\n",
      "Epoch 19/20\n",
      "7/7 [==============================] - 3s 407ms/step - loss: 0.5155 - accuracy: 0.7714 - val_loss: 0.7568 - val_accuracy: 0.7222\n",
      "Epoch 20/20\n",
      "7/7 [==============================] - 3s 407ms/step - loss: 0.4338 - accuracy: 0.7857 - val_loss: 0.7448 - val_accuracy: 0.7444\n"
     ]
    },
    {
     "data": {
      "text/plain": [
       "<matplotlib.legend.Legend at 0x7f3ef86095d0>"
      ]
     },
     "execution_count": 12,
     "metadata": {},
     "output_type": "execute_result"
    },
    {
     "data": {
      "image/png": "[encoded data removed]",
      "text/plain": [
       "<Figure size 432x288 with 1 Axes>"
      ]
     },
     "metadata": {
      "needs_background": "light"
     },
     "output_type": "display_data"
    }
   ],
   "source": [
    "output_size = max(y_train) + 1\n",
    "regularizer = tf.keras.regularizers.L1L2(l1=0, l2=0)\n",
    "\n",
    "def build_cae(autoencoder, optimizer='adam', loss='sparse_categorical_crossentropy', metrics=['accuracy']):\n",
    "    encoder = Model(inputs=autoencoder.input, outputs=autoencoder.layers[-6].output, name='encoder')\n",
    "    for encoding_layer in encoder.layers:\n",
    "        encoding_layer.trainable = False\n",
    "    input_shape = (encoder.output.shape[1], encoder.output.shape[2], encoder.output.shape[3])\n",
    "    classifier = Sequential(name='classifier')\n",
    "    classifier.add(tf.keras.layers.Input(shape=input_shape))\n",
    "    classifier.add(tf.keras.layers.SpatialDropout2D(0.3))\n",
    "    classifier.add(Flatten(name='dense_flatten'))\n",
    "    classifier.add(Dropout(0.5))\n",
    "    classifier.add(Dense(100, activation='relu', name='dense_400', kernel_regularizer=regularizer, bias_regularizer=regularizer, trainable=True))\n",
    "    classifier.add(Dropout(0.5))\n",
    "    classifier.add(Dense(100, activation='relu', name='dense_69', kernel_regularizer=regularizer, bias_regularizer=regularizer, trainable=True))\n",
    "#     classifier.add(Dense(200, activation='relu', name='dense_666', kernel_regularizer=regularizer, bias_regularizer=regularizer, trainable=False))\n",
    "#     classifier.add(Dense(200, activation='relu', name='dense_4', kernel_regularizer=regularizer, bias_regularizer=regularizer, trainable=False))\n",
    "#     classifier.add(Dense(200, activation='relu', name='dense_6', kernel_regularizer=regularizer, bias_regularizer=regularizer, trainable=False))\n",
    "    classifier.add(Dense(output_size, activation='softmax', name='softmax'))\n",
    "    cae = Model(inputs=encoder.inputs, outputs=classifier(encoder.output), name='case')\n",
    "#     cae.summary()\n",
    "#     classifier.summary()\n",
    "    cae.compile(optimizer=optimizer, loss=loss, metrics=metrics)\n",
    "    \n",
    "    return cae\n",
    "\n",
    "cae = build_cae(autoencoder)\n",
    "cae.fit(x=X_train, \n",
    "        y=y_train,\n",
    "        batch_size=32,\n",
    "        epochs=20,\n",
    "        validation_data=(X_val, y_val),\n",
    "        callbacks=None,\n",
    "        verbose=1)\n",
    "\n",
    "plt.plot(cae.history.history['accuracy'], label='Training Accuracy')\n",
    "plt.plot(cae.history.history['val_accuracy'], label='Validation Accuracy')\n",
    "plt.legend(loc='upper left')"
   ]
  },
  {
   "cell_type": "code",
   "execution_count": 7,
   "id": "introductory-former",
   "metadata": {},
   "outputs": [],
   "source": [
    "# classifier.compile(optimizer='adam',\n",
    "#                    loss='sparse_categorical_crossentropy',\n",
    "#                    metrics=['accuracy'])\n",
    "\n",
    "# training_hist = classifier.fit(x=X_train, \n",
    "#                                y=y_train,\n",
    "#                                batch_size=32,\n",
    "#                                epochs=50,\n",
    "#                                validation_data=(X_val, y_val),\n",
    "#                                callbacks=None,\n",
    "#                                verbose=1)"
   ]
  },
  {
   "cell_type": "code",
   "execution_count": 8,
   "id": "thermal-clearance",
   "metadata": {},
   "outputs": [],
   "source": [
    "# timestamp = datetime.datetime.now().strftime(\"%Y-%m-%d-%H-%M\")\n",
    "# classifier_path = f'models/cae_{timestamp}_from_{latest_model_id}'\n",
    "# classifier.save(classifier_path)\n",
    "# print('Model saved')"
   ]
  },
  {
   "cell_type": "code",
   "execution_count": 9,
   "id": "applicable-heritage",
   "metadata": {},
   "outputs": [],
   "source": [
    "# training_hist2 = classifier.fit(x=X_val, \n",
    "#                                y=y_val,\n",
    "#                                batch_size=32,\n",
    "#                                epochs=10,\n",
    "#                                validation_data=(X_train, y_train),\n",
    "#                                callbacks=None,\n",
    "#                                verbose=1)"
   ]
  },
  {
   "cell_type": "code",
   "execution_count": 10,
   "id": "leading-antigua",
   "metadata": {},
   "outputs": [],
   "source": [
    "# training_hist3 = classifier.fit(x=X_val, \n",
    "#                                y=y_val,\n",
    "#                                batch_size=32,\n",
    "#                                epochs=10,\n",
    "#                                validation_data=(X_val, y_val),\n",
    "#                                callbacks=None,\n",
    "#                                verbose=1)\n"
   ]
  }
 ],
 "metadata": {
  "kernelspec": {
   "display_name": "Python 3",
   "language": "python",
   "name": "python3"
  },
  "language_info": {
   "codemirror_mode": {
    "name": "ipython",
    "version": 3
   },
   "file_extension": ".py",
   "mimetype": "text/x-python",
   "name": "python",
   "nbconvert_exporter": "python",
   "pygments_lexer": "ipython3",
   "version": "3.7.9"
  }
 },
 "nbformat": 4,
 "nbformat_minor": 5
}
